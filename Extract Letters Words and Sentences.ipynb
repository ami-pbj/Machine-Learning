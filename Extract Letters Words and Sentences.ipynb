{
  "cells": [
    {
      "cell_type": "markdown",
      "metadata": {
        "id": "view-in-github",
        "colab_type": "text"
      },
      "source": [
        "<a href=\"https://colab.research.google.com/github/pb-jana/Machine-Learning/blob/main/Extract%20Letters%20Words%20and%20Sentences.ipynb\" target=\"_parent\"><img src=\"https://colab.research.google.com/assets/colab-badge.svg\" alt=\"Open In Colab\"/></a>"
      ]
    },
    {
      "cell_type": "markdown",
      "source": [
        "**Import**"
      ],
      "metadata": {
        "id": "psy4lSObnzjB"
      }
    },
    {
      "cell_type": "code",
      "source": [
        "import re\n",
        "import pandas as pd\n",
        "olympic_news = \"Neeraj Chopra, a name that has rung clear across India as well as the international sporting community. Hailing from Khandra, Haryana, this Javelin-throwing Olympian and track-runner brought home the gold for India in August. The Tokyo Olympics did shine a light on this rare gem of an athlete and brought the nation to the forefront thanks to Chopra. As of August 2021, he has been ranked the number two athlete in the world by the World Athletics organisation. He is also the first track runner and field athlete to win a gold medal for India at the Olympics. Here are a few investment lessons one can learn from the sports star.\"\n",
        "print (\"Dataset : \", olympic_news)\n"
      ],
      "metadata": {
        "id": "FmOT92wRnDIu",
        "outputId": "39c37a84-d4e5-4a1f-8ed5-511df3e227a6",
        "colab": {
          "base_uri": "https://localhost:8080/"
        }
      },
      "execution_count": null,
      "outputs": [
        {
          "output_type": "stream",
          "name": "stdout",
          "text": [
            "Dataset :  Neeraj Chopra, a name that has rung clear across India as well as the international sporting community. Hailing from Khandra, Haryana, this Javelin-throwing Olympian and track-runner brought home the gold for India in August. The Tokyo Olympics did shine a light on this rare gem of an athlete and brought the nation to the forefront thanks to Chopra. As of August 2021, he has been ranked the number two athlete in the world by the World Athletics organisation. He is also the first track runner and field athlete to win a gold medal for India at the Olympics. Here are a few investment lessons one can learn from the sports star.\n"
          ]
        }
      ]
    },
    {
      "cell_type": "markdown",
      "source": [
        "**Extract** **Letters**"
      ],
      "metadata": {
        "id": "okdG4dZ4n3QS"
      }
    },
    {
      "cell_type": "code",
      "source": [
        "print (\"Dataset : \", olympic_news)"
      ],
      "metadata": {
        "id": "Ilr14uhbpSJ5",
        "outputId": "bdcecc46-6157-4d94-91e2-d51e0a89b156",
        "colab": {
          "base_uri": "https://localhost:8080/"
        }
      },
      "execution_count": null,
      "outputs": [
        {
          "output_type": "stream",
          "name": "stdout",
          "text": [
            "Dataset :  Neeraj Chopra, a name that has rung clear across India as well as the international sporting community. Hailing from Khandra, Haryana, this Javelin-throwing Olympian and track-runner brought home the gold for India in August. The Tokyo Olympics did shine a light on this rare gem of an athlete and brought the nation to the forefront thanks to Chopra. As of August 2021, he has been ranked the number two athlete in the world by the World Athletics organisation. He is also the first track runner and field athlete to win a gold medal for India at the Olympics. Here are a few investment lessons one can learn from the sports star.\n"
          ]
        }
      ]
    },
    {
      "cell_type": "code",
      "source": [
        "letter = \" \".join(re.split(\"[^a-zA-Z]*\", olympic_news))\n",
        "print (\"String after extracting letters from it: \", str(letter), \"\\n\")"
      ],
      "metadata": {
        "id": "KRkwGLpzndwa",
        "outputId": "1f6d3d60-7eb3-4f86-f93d-1053a52e7e35",
        "colab": {
          "base_uri": "https://localhost:8080/"
        }
      },
      "execution_count": null,
      "outputs": [
        {
          "output_type": "stream",
          "name": "stdout",
          "text": [
            "String after extracting letters from it:   N e e r a j  C h o p r a  a  n a m e  t h a t  h a s  r u n g  c l e a r  a c r o s s  I n d i a  a s  w e l l  a s  t h e  i n t e r n a t i o n a l  s p o r t i n g  c o m m u n i t y  H a i l i n g  f r o m  K h a n d r a  H a r y a n a  t h i s  J a v e l i n  t h r o w i n g  O l y m p i a n  a n d  t r a c k  r u n n e r  b r o u g h t  h o m e  t h e  g o l d  f o r  I n d i a  i n  A u g u s t  T h e  T o k y o  O l y m p i c s  d i d  s h i n e  a  l i g h t  o n  t h i s  r a r e  g e m  o f  a n  a t h l e t e  a n d  b r o u g h t  t h e  n a t i o n  t o  t h e  f o r e f r o n t  t h a n k s  t o  C h o p r a  A s  o f  A u g u s t  h e  h a s  b e e n  r a n k e d  t h e  n u m b e r  t w o  a t h l e t e  i n  t h e  w o r l d  b y  t h e  W o r l d  A t h l e t i c s  o r g a n i s a t i o n  H e  i s  a l s o  t h e  f i r s t  t r a c k  r u n n e r  a n d  f i e l d  a t h l e t e  t o  w i n  a  g o l d  m e d a l  f o r  I n d i a  a t  t h e  O l y m p i c s  H e r e  a r e  a  f e w  i n v e s t m e n t  l e s s o n s  o n e  c a n  l e a r n  f r o m  t h e  s p o r t s  s t a r   \n",
            "\n"
          ]
        }
      ]
    },
    {
      "cell_type": "markdown",
      "source": [
        "**Extract** **Word**"
      ],
      "metadata": {
        "id": "By3WlxsWn-XN"
      }
    },
    {
      "cell_type": "code",
      "source": [
        "word = olympic_news.split()\n",
        "print (\"The list of words is : \" + str(word), \"\\n\")"
      ],
      "metadata": {
        "id": "mXw2Vzocn8QX",
        "outputId": "e2446970-81ee-417d-9e60-7fceeba6a4d8",
        "colab": {
          "base_uri": "https://localhost:8080/"
        }
      },
      "execution_count": null,
      "outputs": [
        {
          "output_type": "stream",
          "name": "stdout",
          "text": [
            "The list of words is : ['Neeraj', 'Chopra,', 'a', 'name', 'that', 'has', 'rung', 'clear', 'across', 'India', 'as', 'well', 'as', 'the', 'international', 'sporting', 'community.', 'Hailing', 'from', 'Khandra,', 'Haryana,', 'this', 'Javelin-throwing', 'Olympian', 'and', 'track-runner', 'brought', 'home', 'the', 'gold', 'for', 'India', 'in', 'August.', 'The', 'Tokyo', 'Olympics', 'did', 'shine', 'a', 'light', 'on', 'this', 'rare', 'gem', 'of', 'an', 'athlete', 'and', 'brought', 'the', 'nation', 'to', 'the', 'forefront', 'thanks', 'to', 'Chopra.', 'As', 'of', 'August', '2021,', 'he', 'has', 'been', 'ranked', 'the', 'number', 'two', 'athlete', 'in', 'the', 'world', 'by', 'the', 'World', 'Athletics', 'organisation.', 'He', 'is', 'also', 'the', 'first', 'track', 'runner', 'and', 'field', 'athlete', 'to', 'win', 'a', 'gold', 'medal', 'for', 'India', 'at', 'the', 'Olympics.', 'Here', 'are', 'a', 'few', 'investment', 'lessons', 'one', 'can', 'learn', 'from', 'the', 'sports', 'star.'] \n",
            "\n"
          ]
        }
      ]
    },
    {
      "cell_type": "markdown",
      "source": [
        "**Extract** **Sentences**"
      ],
      "metadata": {
        "id": "HTYxzGK8oDie"
      }
    },
    {
      "cell_type": "code",
      "source": [
        "import nltk\n",
        "nltk.download('punkt')"
      ],
      "metadata": {
        "id": "9_Q4Aqwgn_rW",
        "outputId": "0f031b10-5da9-4fb4-b46e-db9d05204a8c",
        "colab": {
          "base_uri": "https://localhost:8080/"
        }
      },
      "execution_count": null,
      "outputs": [
        {
          "output_type": "stream",
          "name": "stderr",
          "text": [
            "[nltk_data] Downloading package punkt to /root/nltk_data...\n",
            "[nltk_data]   Package punkt is already up-to-date!\n"
          ]
        },
        {
          "output_type": "execute_result",
          "data": {
            "text/plain": [
              "True"
            ]
          },
          "metadata": {},
          "execution_count": 28
        }
      ]
    },
    {
      "cell_type": "code",
      "source": [
        "tokens = nltk.sent_tokenize(olympic_news)\n",
        "for t in tokens:\n",
        "    print (t, \"\\n\")\n"
      ],
      "metadata": {
        "id": "IqomfjudoCv1",
        "outputId": "30bbf19c-e6e6-4aba-83e4-79fbb182f87e",
        "colab": {
          "base_uri": "https://localhost:8080/"
        }
      },
      "execution_count": null,
      "outputs": [
        {
          "output_type": "stream",
          "name": "stdout",
          "text": [
            "Neeraj Chopra, a name that has rung clear across India as well as the international sporting community. \n",
            "\n",
            "Hailing from Khandra, Haryana, this Javelin-throwing Olympian and track-runner brought home the gold for India in August. \n",
            "\n",
            "The Tokyo Olympics did shine a light on this rare gem of an athlete and brought the nation to the forefront thanks to Chopra. \n",
            "\n",
            "As of August 2021, he has been ranked the number two athlete in the world by the World Athletics organisation. \n",
            "\n",
            "He is also the first track runner and field athlete to win a gold medal for India at the Olympics. \n",
            "\n",
            "Here are a few investment lessons one can learn from the sports star. \n",
            "\n"
          ]
        }
      ]
    },
    {
      "cell_type": "code",
      "source": [],
      "metadata": {
        "id": "1Z29cb9qoMIM"
      },
      "execution_count": null,
      "outputs": []
    }
  ],
  "metadata": {
    "colab": {
      "provenance": [],
      "include_colab_link": true
    },
    "kernelspec": {
      "display_name": "Python 3",
      "name": "python3"
    }
  },
  "nbformat": 4,
  "nbformat_minor": 0
}