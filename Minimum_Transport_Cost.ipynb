{
  "nbformat": 4,
  "nbformat_minor": 0,
  "metadata": {
    "colab": {
      "provenance": [],
      "authorship_tag": "ABX9TyMvTMl6EeA1jcfZcka240uL",
      "include_colab_link": true
    },
    "kernelspec": {
      "name": "python3",
      "display_name": "Python 3"
    },
    "language_info": {
      "name": "python"
    }
  },
  "cells": [
    {
      "cell_type": "markdown",
      "metadata": {
        "id": "view-in-github",
        "colab_type": "text"
      },
      "source": [
        "<a href=\"https://colab.research.google.com/github/pb-jana/Machine-Learning/blob/main/Minimum_Transport_Cost.ipynb\" target=\"_parent\"><img src=\"https://colab.research.google.com/assets/colab-badge.svg\" alt=\"Open In Colab\"/></a>"
      ]
    },
    {
      "cell_type": "markdown",
      "source": [
        "**Minimize Tranportation Costs**\n",
        "\n",
        "Supply at :\n",
        "\n",
        "Hyderabad = 50 and \n",
        "Mumbai = 100\n",
        "\n",
        "\n",
        "Demand at :\n",
        "\n",
        "Pune = 60, Solapur = 50 and Nanded = 40\n",
        "\n",
        "Distance and Cost (₹0.1/km) :\n",
        "\n",
        "Hyderabad to Pune => 561.6km => 56.16rs\n",
        "\n",
        "Hyderabad to Solapur => 311.1km => 31.11rs\n",
        "\n",
        "Hyderabad to Nanded => 274.0km => 27.4rs\n",
        "\n",
        "\n",
        "\n",
        "\n",
        "Mumbai to Pune => 147.8km => 14.78rs\n",
        "\n",
        "Mumbai to Solapur => 399.4km => 39.94rs\n",
        "\n",
        "Mumbai to Nanded => 621.2km => 62.12rs\n",
        "\n"
      ],
      "metadata": {
        "id": "NSq8pVWavdBf"
      }
    },
    {
      "cell_type": "code",
      "execution_count": null,
      "metadata": {
        "id": "KiaLU7pXYNjA"
      },
      "outputs": [],
      "source": [
        "# Total Warehouses\n",
        "warehouses = [ \"Hyderabad\", \"Mumbai\" ]\n",
        "\n",
        "# Total Number of Supply\n",
        "supply = { \"Hyderabad\": 50, \"Mumbai\": 100 }\n",
        "\n",
        "# Destinations to Supply\n",
        "destinations = [ \"Pune\", \"Solapur\", \"Nanded\" ]\n",
        "\n",
        "# Total Demands\n",
        "demand = { \"Pune\": 60, \"Solapur\": 50, \"Nanded\": 40 }\n",
        "\n",
        "# Transportation Cost\n",
        "costs = [ [ 56.16, 31.11, 27.40 ], [ 14.78, 39.94, 62.12 ] ] # Hyderabad & Mumbai\n"
      ]
    },
    {
      "cell_type": "code",
      "source": [
        "# Cost Data\n",
        "costs = makeDict([warehouses, destinations], costs, 0)"
      ],
      "metadata": {
        "id": "g8fvOWkXlYu-"
      },
      "execution_count": null,
      "outputs": []
    },
    {
      "cell_type": "code",
      "source": [
        "# Import PuLP Modeler Functions after Install PuLP =>> pip install pulp\n",
        "from pulp import *\n",
        "\n",
        "# Problem Data\n",
        "problem = LpProblem(\"Supply_Problem\", LpMinimize)"
      ],
      "metadata": {
        "id": "-0m2Ey1JaDt4"
      },
      "execution_count": null,
      "outputs": []
    },
    {
      "cell_type": "code",
      "source": [
        "# Possible Transport Routes\n",
        "Transport_Routes = [(a, z) for a in warehouses for z in destinations]\n",
        "\n",
        "# Reference Variables\n",
        "Routes = LpVariable.dicts(\"Number_of_Suppiles\", (warehouses, destinations), 0, None, LpInteger)"
      ],
      "metadata": {
        "id": "j1ZhUUnjlkiK"
      },
      "execution_count": null,
      "outputs": []
    },
    {
      "cell_type": "code",
      "source": [
        "# Minimum Objective Function\n",
        "problem += (\n",
        "    lpSum([Routes[a][z] * costs[a][z] for (a, z) in Transport_Routes]),\n",
        "    \"Total_Transportation_Costs\",\n",
        ")"
      ],
      "metadata": {
        "id": "DEss2N-wlnZO"
      },
      "execution_count": null,
      "outputs": []
    },
    {
      "cell_type": "code",
      "source": [
        "# Supply Maximum From Each Warehouses\n",
        "for a in warehouses:\n",
        "    problem += (\n",
        "        lpSum([Routes[a][z] for z in destinations]) <= supply[a],\n",
        "        \"Total_PSupply_From_Warehouses_%s\" % a,\n",
        "    )\n",
        "\n",
        "# Demand Minimum For Each Destinations\n",
        "for z in destinations:\n",
        "    problem += (\n",
        "        lpSum([Routes[a][z] for a in warehouses]) >= demand[z],\n",
        "        \"Total_Supply_Into_Destinations%s\" % z,\n",
        "    )"
      ],
      "metadata": {
        "id": "tU1lfFUSlvmw"
      },
      "execution_count": null,
      "outputs": []
    },
    {
      "cell_type": "code",
      "source": [
        "# PuLP's choice of Solver\n",
        "problem.solve()\n",
        "\n",
        "# Optimized Value\n",
        "for v in problem.variables():\n",
        "    print(v.name, \"=\", v.varValue)\n",
        "    \n",
        "# Print Transpotation Cost Result\n",
        "print(\"\\nMinimum_Transportation_Cost = \", value(problem.objective))"
      ],
      "metadata": {
        "colab": {
          "base_uri": "https://localhost:8080/"
        },
        "id": "EasmpfWVl0BT",
        "outputId": "0a6b141c-582b-4d65-813b-96baef612813"
      },
      "execution_count": null,
      "outputs": [
        {
          "output_type": "stream",
          "name": "stdout",
          "text": [
            "Number_of_Suppiles_Hyderabad_Nanded = 40.0\n",
            "Number_of_Suppiles_Hyderabad_Pune = 0.0\n",
            "Number_of_Suppiles_Hyderabad_Solapur = 10.0\n",
            "Number_of_Suppiles_Mumbai_Nanded = 0.0\n",
            "Number_of_Suppiles_Mumbai_Pune = 60.0\n",
            "Number_of_Suppiles_Mumbai_Solapur = 40.0\n",
            "\n",
            "Minimum_Transportation_Cost =  3891.4999999999995\n"
          ]
        }
      ]
    },
    {
      "cell_type": "code",
      "source": [],
      "metadata": {
        "id": "so8FJ9p9k71S"
      },
      "execution_count": null,
      "outputs": []
    }
  ]
}